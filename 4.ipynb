{
 "cells": [
  {
   "cell_type": "code",
   "execution_count": 1,
   "metadata": {},
   "outputs": [
    {
     "name": "stdout",
     "output_type": "stream",
     "text": [
      "0,1,1,2,\n",
      "3,5,8,13,\n",
      "21,34,55,89,\n",
      "\n"
     ]
    }
   ],
   "source": [
    "def rule_fibo(n):  \n",
    "   if n <= 1:  \n",
    "       return n  \n",
    "   else:  \n",
    "       return(rule_fibo(n-1) + rule_fibo(n-2))\n",
    "    \n",
    "def fibo(x,y):\n",
    "    n = x * y\n",
    "    a = ''\n",
    "    fib = []\n",
    "    for i in range(n):\n",
    "        fib.append(rule_fibo(i))\n",
    "        a += str(fib[i])+\",\"\n",
    "        if len(fib) % x == 0:\n",
    "            a += \"\\n\"\n",
    "    print(a)\n",
    "\n",
    "fibo(4,3)"
   ]
  },
  {
   "cell_type": "code",
   "execution_count": null,
   "metadata": {},
   "outputs": [],
   "source": []
  }
 ],
 "metadata": {
  "kernelspec": {
   "display_name": "Python 3",
   "language": "python",
   "name": "python3"
  },
  "language_info": {
   "codemirror_mode": {
    "name": "ipython",
    "version": 3
   },
   "file_extension": ".py",
   "mimetype": "text/x-python",
   "name": "python",
   "nbconvert_exporter": "python",
   "pygments_lexer": "ipython3",
   "version": "3.7.3"
  }
 },
 "nbformat": 4,
 "nbformat_minor": 2
}
