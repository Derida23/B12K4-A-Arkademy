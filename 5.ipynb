{
 "cells": [
  {
   "cell_type": "code",
   "execution_count": 1,
   "metadata": {},
   "outputs": [
    {
     "name": "stdout",
     "output_type": "stream",
     "text": [
      "80\n",
      "105\n",
      "20\n"
     ]
    }
   ],
   "source": [
    "def buyNoodle(tanggal, uang):\n",
    "    jumlahMie = round(uang/2500)\n",
    "    bonus = 0\n",
    "    if tanggal % 2 == 0:\n",
    "        bonus = jumlahMie//4\n",
    "    else:\n",
    "        bonus = jumlahMie//3\n",
    "\n",
    "    if tanggal % 5 == 0:\n",
    "        if bonus % 2 == 0:\n",
    "            bonus *= 10\n",
    "        else:\n",
    "            bonus *= 5\n",
    "\n",
    "    jumlahMie += bonus\n",
    "    return jumlahMie\n",
    "\n",
    "print (buyNoodle(25, 50000))\n",
    "print (buyNoodle(25, 100000))\n",
    "print (buyNoodle(16, 40000))"
   ]
  },
  {
   "cell_type": "code",
   "execution_count": null,
   "metadata": {},
   "outputs": [],
   "source": []
  }
 ],
 "metadata": {
  "kernelspec": {
   "display_name": "Python 3",
   "language": "python",
   "name": "python3"
  },
  "language_info": {
   "codemirror_mode": {
    "name": "ipython",
    "version": 3
   },
   "file_extension": ".py",
   "mimetype": "text/x-python",
   "name": "python",
   "nbconvert_exporter": "python",
   "pygments_lexer": "ipython3",
   "version": "3.7.3"
  }
 },
 "nbformat": 4,
 "nbformat_minor": 2
}
