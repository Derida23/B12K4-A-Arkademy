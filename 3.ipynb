{
 "cells": [
  {
   "cell_type": "markdown",
   "metadata": {},
   "source": [
    "### Soal No. 3\n",
    "\n",
    "Buatlah function untuk menghitung jumlah jabat tangan yang terjadi dalam pertemuan yang dihadiri oleh beberapa orang. Jika setiap orang berjabat tangan dengan semua yang hadir dan hanya sekali berjabat tangan tangan dengan orang yang sama!\n"
   ]
  },
  {
   "cell_type": "code",
   "execution_count": 32,
   "metadata": {},
   "outputs": [
    {
     "name": "stdout",
     "output_type": "stream",
     "text": [
      "15\n"
     ]
    }
   ],
   "source": [
    "def jabatTangan(n):\n",
    "    return sum(range(n))\n",
    "\n",
    "n = 6\n",
    "print(jabatTangan(n))\n"
   ]
  },
  {
   "cell_type": "markdown",
   "metadata": {},
   "source": [
    "<b>Rumus Penyelesaian</b> <br>\n",
    "1. Banyaknya orang = 6 <br>\n",
    "2. Looping 1+2+3+4+5 <br>\n",
    "\n",
    "Apabila rumus looping telah diketahui maka menentukan coding yang relevan menjumlahkan <b>(sum)</b> dan cetak angka sesuai n <b>(range)</b>\n",
    "<br>\n",
    "<img src=\"https://pynative.com/wp-content/uploads/2018/10/python_range-300x220.png\">"
   ]
  }
 ],
 "metadata": {
  "kernelspec": {
   "display_name": "Python 3",
   "language": "python",
   "name": "python3"
  },
  "language_info": {
   "codemirror_mode": {
    "name": "ipython",
    "version": 3
   },
   "file_extension": ".py",
   "mimetype": "text/x-python",
   "name": "python",
   "nbconvert_exporter": "python",
   "pygments_lexer": "ipython3",
   "version": "3.7.3"
  }
 },
 "nbformat": 4,
 "nbformat_minor": 2
}
